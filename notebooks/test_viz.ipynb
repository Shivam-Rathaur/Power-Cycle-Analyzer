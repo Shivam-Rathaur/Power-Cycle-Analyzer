from cycles.rankine import basic_rankine
from viz.plots import plot_cycle_Ts, plot_cycle_hs

P_boiler = 15e6
T_turb_in = 600 + 273.15
P_cond = 10e3

res = basic_rankine(P_boiler, T_turb_in, P_cond, eta_turb=0.88, eta_pump=0.85)

plot_cycle_Ts(res["states"])
plot_cycle_hs(res["states"])
